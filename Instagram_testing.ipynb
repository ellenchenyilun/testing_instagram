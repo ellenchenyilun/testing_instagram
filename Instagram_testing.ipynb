{
 "cells": [
  {
   "cell_type": "code",
   "execution_count": 14,
   "metadata": {},
   "outputs": [],
   "source": [
    "import instagram\n",
    "from instagram.client import InstagramAPI\n",
    "from selenium import webdriver\n",
    "from selenium.webdriver.common.keys import Keys\n",
    "import numpy as ny\n",
    "import pandas as pd\n",
    "import matplotlib.pyplot as plt"
   ]
  },
  {
   "cell_type": "code",
   "execution_count": 15,
   "metadata": {},
   "outputs": [],
   "source": [
    "client_id='4c752d3964bb46138f4ad623ef9212bf'\n",
    "client_secret = 'c428cbf5335a4027ab3851f52c8d4d46'\n",
    "redirect_uri='https://www.hkbu.edu.hk/eng/main/index.jsp'\n",
    "scope = ('basic','public_content')"
   ]
  },
  {
   "cell_type": "code",
   "execution_count": 16,
   "metadata": {},
   "outputs": [
    {
     "name": "stdout",
     "output_type": "stream",
     "text": [
      "Please open the url and copy it from browser\n",
      "https://api.instagram.com/oauth/authorize/?client_id=4c752d3964bb46138f4ad623ef9212bf&redirect_uri=https://www.hkbu.edu.hk/eng/main/index.jsp&response_type=code\n"
     ]
    }
   ],
   "source": [
    "service_url = 'https://api.instagram.com/oauth/authorize/?client_id='+client_id+'&redirect_uri='+redirect_uri+'&response_type=code'\n",
    "\n",
    "print('Please open the url and copy it from browser')\n",
    "print(service_url)"
   ]
  },
  {
   "cell_type": "code",
   "execution_count": 18,
   "metadata": {},
   "outputs": [
    {
     "name": "stdout",
     "output_type": "stream",
     "text": [
      "Enter the url: https://www.hkbu.edu.hk/eng/main/index.jsp?code=a9fb640e00104ea0808a4d7ee45a3039\n"
     ]
    }
   ],
   "source": [
    "new_service_url = input('Enter the url: ')"
   ]
  },
  {
   "cell_type": "code",
   "execution_count": 19,
   "metadata": {},
   "outputs": [
    {
     "data": {
      "text/plain": [
       "('305553279.4c752d3.997fcceb020f4b9a9392de6ecb1864f7',\n",
       " {'id': '305553279',\n",
       "  'username': 'ellencyl',\n",
       "  'profile_picture': 'https://scontent.cdninstagram.com/vp/da39201d5817bbf61ef8e272dd1a5807/5C468957/t51.2885-19/s150x150/42078558_243519162997624_6531939229017047040_n.jpg',\n",
       "  'full_name': 'Yilun CHEN',\n",
       "  'bio': 'Hey',\n",
       "  'website': '',\n",
       "  'is_business': False})"
      ]
     },
     "execution_count": 19,
     "metadata": {},
     "output_type": "execute_result"
    }
   ],
   "source": [
    "#get user account information\n",
    "code = new_service_url.split('code=')[1]\n",
    "api = InstagramAPI(client_id=client_id, client_secret=client_secret, redirect_uri=redirect_uri)\n",
    "access_token = api.exchange_code_for_access_token(code)\n",
    "access_token"
   ]
  },
  {
   "cell_type": "code",
   "execution_count": 20,
   "metadata": {},
   "outputs": [],
   "source": [
    "user_id = access_token[1]['id']"
   ]
  },
  {
   "cell_type": "code",
   "execution_count": 21,
   "metadata": {},
   "outputs": [],
   "source": [
    "api = InstagramAPI(access_token=access_token[0], client_secret=client_secret)\n",
    "recent_media, next_ = api.user_recent_media(user_id=user_id, count=5)\n",
    "\n",
    "resent_post = []\n",
    "for media in recent_media:\n",
    "    resent_post.append(media.caption)"
   ]
  },
  {
   "cell_type": "code",
   "execution_count": 22,
   "metadata": {},
   "outputs": [
    {
     "data": {
      "text/plain": [
       "[None,\n",
       " Comment: ellencyl said \"now things are getting serious\",\n",
       " Comment: ellencyl said \"Mom sweet mom\",\n",
       " None,\n",
       " None]"
      ]
     },
     "execution_count": 22,
     "metadata": {},
     "output_type": "execute_result"
    }
   ],
   "source": [
    "#sample recent 5 post\n",
    "resent_post"
   ]
  },
  {
   "cell_type": "code",
   "execution_count": 23,
   "metadata": {},
   "outputs": [],
   "source": [
    "#sample recent media\n",
    "recent_media, next_ = api.user_recent_media()\n",
    "photos = []\n",
    "for media in recent_media:\n",
    "    photos.append('<img src=\"%s\"/>' % media.images['thumbnail'].url)"
   ]
  },
  {
   "cell_type": "code",
   "execution_count": 24,
   "metadata": {},
   "outputs": [
    {
     "data": {
      "text/plain": [
       "['<img src=\"https://scontent.cdninstagram.com/vp/dcb274ad93815e1cb7307469f73cc264/5C5E6B6E/t51.2885-15/e35/s150x150/42429211_1852752504840398_3016164566783310840_n.jpg\"/>',\n",
       " '<img src=\"https://scontent.cdninstagram.com/vp/bf5f1e1229f6bf7f4128508af5e27459/5C59DB23/t51.2885-15/e35/s150x150/42570241_1851512984896046_2233596493571546088_n.jpg\"/>',\n",
       " '<img src=\"https://scontent.cdninstagram.com/vp/0e0251839809089b456bed505655e279/5C4AE3F9/t51.2885-15/e35/s150x150/41972320_1015152341998505_7164370164621474362_n.jpg\"/>',\n",
       " '<img src=\"https://scontent.cdninstagram.com/vp/f84ff9f12639b6376a3fd6f701237a4c/5C583965/t51.2885-15/e35/c0.135.1080.1080/s150x150/41649942_250879592238111_8335499078928776662_n.jpg\"/>',\n",
       " '<img src=\"https://scontent.cdninstagram.com/vp/b3ef7ac3e8fa43788893d7be65a3c395/5C5B66C6/t51.2885-15/e35/s150x150/42002710_1900906056692372_891812737478844724_n.jpg\"/>',\n",
       " '<img src=\"https://scontent.cdninstagram.com/vp/72e87e6b56b5d9829e0d95bebec82bcc/5C4A8794/t51.2885-15/e35/s150x150/40085609_265240137431882_6926195487333609285_n.jpg\"/>',\n",
       " '<img src=\"https://scontent.cdninstagram.com/vp/94febed6d46c4cb42b42e211c01a328c/5C58A3A9/t51.2885-15/e35/c135.0.810.810/s150x150/37508139_1869758763111768_3340734157822141443_n.jpg\"/>',\n",
       " '<img src=\"https://scontent.cdninstagram.com/vp/ae6560b91180eee6a3d70a4c44289d83/5C61F633/t51.2885-15/e35/s150x150/38958318_226917917993239_4612336114330402043_n.jpg\"/>',\n",
       " '<img src=\"https://scontent.cdninstagram.com/vp/0be4f951cb4155d2bdad1f3e9b8a58b6/5C5D1E14/t51.2885-15/e35/c135.0.810.810/s150x150/38302166_223113325030207_67461171577356288_n.jpg\"/>',\n",
       " '<img src=\"https://scontent.cdninstagram.com/vp/30f65404745e07d2837d8b2d86c55771/5C54C6DD/t51.2885-15/e35/c0.135.1080.1080/s150x150/36550525_347461039121259_3558768974722236416_n.jpg\"/>',\n",
       " '<img src=\"https://scontent.cdninstagram.com/vp/c2b58cda0c4174ddde2d32f44e325b3e/5C627BB2/t51.2885-15/e35/c135.0.810.810/s150x150/29089369_1655487621185493_6642721682714787840_n.jpg\"/>',\n",
       " '<img src=\"https://scontent.cdninstagram.com/vp/d3143c20008c5ef3eaecf73778ed964d/5C5CD745/t51.2885-15/e35/s150x150/28430968_576549382715967_8273262323938885632_n.jpg\"/>',\n",
       " '<img src=\"https://scontent.cdninstagram.com/vp/fd637e38539f694660497d5c77731702/5C572EF9/t51.2885-15/e35/c105.0.869.869/s150x150/26863241_2050500185232554_7964538902176333824_n.jpg\"/>',\n",
       " '<img src=\"https://scontent.cdninstagram.com/vp/9526fa055661424e77916be9b6d66e5f/5C4ECEEF/t51.2885-15/e35/s150x150/26863998_583406071996226_4003964355249963008_n.jpg\"/>',\n",
       " '<img src=\"https://scontent.cdninstagram.com/vp/87bb93769ad2cfe51fd6c81269d3b60c/5C3F6FCD/t51.2885-15/e35/s150x150/26863640_1635225909846497_3225226276985896960_n.jpg\"/>',\n",
       " '<img src=\"https://scontent.cdninstagram.com/vp/7e410b4aa60cdfb318a3434869ba68aa/5C5CA75B/t51.2885-15/e35/c0.135.1080.1080/s150x150/26227772_1704995256224288_700982737661591552_n.jpg\"/>',\n",
       " '<img src=\"https://scontent.cdninstagram.com/vp/b54023be1d875913aad6b7ebf238d8cc/5C57A378/t51.2885-15/e35/s150x150/23161155_146840359268401_8523455245651542016_n.jpg\"/>',\n",
       " '<img src=\"https://scontent.cdninstagram.com/vp/ed20bc2ff20a695dfae08d9360810d94/5C4054B3/t51.2885-15/e35/c236.0.607.607/s150x150/22802409_112857036148426_2443489615764520960_n.jpg\"/>',\n",
       " '<img src=\"https://scontent.cdninstagram.com/vp/826c04bebbd6e3cbe08e22f21fe394bd/5C3EB72D/t51.2885-15/e35/s150x150/22158927_1846209122284995_9063750990343176192_n.jpg\"/>',\n",
       " '<img src=\"https://scontent.cdninstagram.com/vp/20e129e5831604dac0dfeaf9641e3a26/5C543E16/t51.2885-15/e35/s150x150/21878963_197673494106743_1939304182276161536_n.jpg\"/>']"
      ]
     },
     "execution_count": 24,
     "metadata": {},
     "output_type": "execute_result"
    }
   ],
   "source": [
    "photos"
   ]
  },
  {
   "cell_type": "code",
   "execution_count": 25,
   "metadata": {},
   "outputs": [],
   "source": [
    "#get like number of my recent post\n",
    "#get comment number of my recent post\n",
    "like_count = []\n",
    "comment_count = []\n",
    "for media in recent_media:\n",
    "    like_count.append(media.like_count)\n",
    "    comment_count.append(media.comment_count)"
   ]
  },
  {
   "cell_type": "code",
   "execution_count": 26,
   "metadata": {},
   "outputs": [
    {
     "data": {
      "text/plain": [
       "<matplotlib.legend.Legend at 0x11e974550>"
      ]
     },
     "execution_count": 26,
     "metadata": {},
     "output_type": "execute_result"
    },
    {
     "data": {
      "image/png": "[encoded data removed]",
      "text/plain": [
       "<Figure size 576x360 with 1 Axes>"
      ]
     },
     "metadata": {},
     "output_type": "display_data"
    }
   ],
   "source": [
    "x = list(range(len(recent_media)))\n",
    "ax, fig = plt.subplots(1,1, figsize=(8,5))\n",
    "plt.bar(x, height=like_count, label='Like Count')\n",
    "plt.bar(x, height=comment_count, label='Comment Count')\n",
    "plt.legend()"
   ]
  },
  {
   "cell_type": "code",
   "execution_count": 27,
   "metadata": {},
   "outputs": [
    {
     "data": {
      "text/plain": [
       "instagram.client.InstagramAPI"
      ]
     },
     "execution_count": 27,
     "metadata": {},
     "output_type": "execute_result"
    }
   ],
   "source": [
    "api.media"
   ]
  },
  {
   "cell_type": "code",
   "execution_count": null,
   "metadata": {},
   "outputs": [],
   "source": []
  }
 ],
 "metadata": {
  "kernelspec": {
   "display_name": "Python 3",
   "language": "python",
   "name": "python3"
  },
  "language_info": {
   "codemirror_mode": {
    "name": "ipython",
    "version": 3
   },
   "file_extension": ".py",
   "mimetype": "text/x-python",
   "name": "python",
   "nbconvert_exporter": "python",
   "pygments_lexer": "ipython3",
   "version": "3.6.5"
  }
 },
 "nbformat": 4,
 "nbformat_minor": 2
}
