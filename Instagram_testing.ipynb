{
 "cells": [
  {
   "cell_type": "code",
   "execution_count": 1,
   "metadata": {},
   "outputs": [],
   "source": [
    "import instagram\n",
    "from instagram.client import InstagramAPI\n",
    "from selenium import webdriver\n",
    "from selenium.webdriver.common.keys import Keys\n",
    "import numpy as ny\n",
    "import pandas as pd\n",
    "import matplotlib.pyplot as plt"
   ]
  },
  {
   "cell_type": "code",
   "execution_count": 2,
   "metadata": {},
   "outputs": [],
   "source": [
    "client_id='4c752d3964bb46138f4ad623ef9212bf'\n",
    "client_secret = 'c428cbf5335a4027ab3851f52c8d4d46'\n",
    "redirect_uri='https://www.hkbu.edu.hk/eng/main/index.jsp'\n",
    "scope = ('basic','public_content')\n",
    "user_id = '305553279'"
   ]
  },
  {
   "cell_type": "code",
   "execution_count": 3,
   "metadata": {},
   "outputs": [
    {
     "name": "stdout",
     "output_type": "stream",
     "text": [
      "Please open the url and copy it from browser\n",
      "https://api.instagram.com/oauth/authorize/?client_id=4c752d3964bb46138f4ad623ef9212bf&redirect_uri=https://www.hkbu.edu.hk/eng/main/index.jsp&response_type=code\n"
     ]
    }
   ],
   "source": [
    "service_url = 'https://api.instagram.com/oauth/authorize/?client_id='+client_id+'&redirect_uri='+redirect_uri+'&response_type=code'\n",
    "\n",
    "print('Please open the url and copy it from browser')\n",
    "print(service_url)"
   ]
  },
  {
   "cell_type": "code",
   "execution_count": null,
   "metadata": {},
   "outputs": [],
   "source": [
    "new_service_url = input('Enter the url: ')"
   ]
  },
  {
   "cell_type": "code",
   "execution_count": null,
   "metadata": {},
   "outputs": [],
   "source": [
    "code = new_service_url.split('code=')[1]\n",
    "api = InstagramAPI(client_id=client_id, client_secret=client_secret, redirect_uri=redirect_uri)\n",
    "access_token = api.exchange_code_for_access_token(code)\n",
    "access_token"
   ]
  },
  {
   "cell_type": "code",
   "execution_count": null,
   "metadata": {},
   "outputs": [],
   "source": [
    "api = InstagramAPI(access_token=access_token[0], client_secret=client_secret)\n",
    "recent_media, next_ = api.user_recent_media(user_id=user_id, count=5)\n",
    "\n",
    "resent_post = []\n",
    "for media in recent_media:\n",
    "    resent_post.append(media.caption)"
   ]
  },
  {
   "cell_type": "code",
   "execution_count": null,
   "metadata": {},
   "outputs": [],
   "source": [
    "resent_post"
   ]
  },
  {
   "cell_type": "code",
   "execution_count": null,
   "metadata": {},
   "outputs": [],
   "source": [
    "recent_media, next_ = api.user_recent_media()\n",
    "photos = []\n",
    "for media in recent_media:\n",
    "    photos.append('<img src=\"%s\"/>' % media.images['thumbnail'].url)"
   ]
  },
  {
   "cell_type": "code",
   "execution_count": null,
   "metadata": {},
   "outputs": [],
   "source": [
    "photos"
   ]
  },
  {
   "cell_type": "code",
   "execution_count": null,
   "metadata": {},
   "outputs": [],
   "source": [
    "like_count = []\n",
    "comment_count = []\n",
    "for media in recent_media:\n",
    "    like_count.append(media.like_count)\n",
    "    comment_count.append(media.comment_count)"
   ]
  },
  {
   "cell_type": "code",
   "execution_count": null,
   "metadata": {},
   "outputs": [],
   "source": [
    "x = list(range(len(recent_media)))\n",
    "ax, fig = plt.subplots(1,1, figsize=(8,5))\n",
    "plt.bar(x, height=like_count, label='Like Count')\n",
    "plt.bar(x, height=comment_count, label='Comment Count')\n",
    "plt.legend()"
   ]
  }
 ],
 "metadata": {
  "kernelspec": {
   "display_name": "Python 3",
   "language": "python",
   "name": "python3"
  },
  "language_info": {
   "codemirror_mode": {
    "name": "ipython",
    "version": 3
   },
   "file_extension": ".py",
   "mimetype": "text/x-python",
   "name": "python",
   "nbconvert_exporter": "python",
   "pygments_lexer": "ipython3",
   "version": "3.6.5"
  }
 },
 "nbformat": 4,
 "nbformat_minor": 2
}
